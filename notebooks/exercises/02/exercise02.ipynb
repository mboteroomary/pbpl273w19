{
 "cells": [
  {
   "cell_type": "markdown",
   "metadata": {},
   "source": [
    "# Exercise 2\n",
    "\n",
    "## Objectives\n",
    "\n",
    "You will learn how to:\n",
    "- upload shapefiles to jupyter hub\n",
    "- create new attributes and add them to a GeoDataFrame\n",
    "- carry out subsetting to select records satisfying certain criteria\n",
    "- create choropleth maps for population density of census tracts for the County of San Francisco\n",
    "\n",
    "## Instructions\n",
    "- Complete the tasks listed under each of the 4 sections. Include  your answers in Markdown cells and use code cells to carry out any programming needed to produce an answer or map.\n",
    "- Rely on the notebooks from class to complete each task.\n",
    "- When completed, export your notebook as a pdf and upload the pdf  on the class ilearn site."
   ]
  },
  {
   "cell_type": "markdown",
   "metadata": {},
   "source": [
    "## 1. Source Data\n",
    "\n",
    "You will be working with data from the US Census that contains demographic information for census tracts based on the 2010 Census. The files for the state of California are available for [download](https://www.dropbox.com/s/wbl5ff8qzo3eh10/exercise02.zip?dl=0).\n",
    "\n",
    "Once you have downloaded the zip file, uncompress it. There are 6 files in the archive:\n",
    "\n",
    "- `california_tracts.cpg`\n",
    "- `california_tracts.dbf`\n",
    "- `california_tracts.prj`\n",
    "- `california_tracts.shp`\n",
    "- `california_tracts.shx`\n",
    "- `DP_TableDescriptions.xls`"
   ]
  },
  {
   "cell_type": "markdown",
   "metadata": {},
   "source": [
    "Upload the first five files to your Jupyter Hub account\n",
    "\n",
    "Using GeoPandas, open the file `california_tracts.shp` that you just uploaded."
   ]
  },
  {
   "cell_type": "markdown",
   "metadata": {},
   "source": [
    "## 2. Creating Attributes\n",
    "\n",
    "The definition of the attributes are contained in the spreadsheet `DP_TableDescription.xls`. Open it and explore the definitions to familiarize yourself with this data set."
   ]
  },
  {
   "cell_type": "markdown",
   "metadata": {},
   "source": [
    "Research the variables, `GEOID10`, `INTPTLON10`, `INTPPTLAT10`,`ALAND10` and `AWATER10`. What units are the units for last two variables?"
   ]
  },
  {
   "cell_type": "code",
   "execution_count": null,
   "metadata": {},
   "outputs": [],
   "source": []
  },
  {
   "cell_type": "markdown",
   "metadata": {},
   "source": [
    "We are going to create a new variable called `denkm2` which expresses **population per square kilometer** of land and add it to the GeoDataFrame. Be careful to first check for tracts that have 0 land area. How many tracts in the state have 0 land area?"
   ]
  },
  {
   "cell_type": "code",
   "execution_count": null,
   "metadata": {},
   "outputs": [],
   "source": []
  },
  {
   "cell_type": "markdown",
   "metadata": {},
   "source": [
    "Create a new dataframe that removes the tracts with 0 land area."
   ]
  },
  {
   "cell_type": "code",
   "execution_count": null,
   "metadata": {},
   "outputs": [],
   "source": []
  },
  {
   "cell_type": "markdown",
   "metadata": {},
   "source": [
    "Create the variable `denkm2` after having removed the 0 area tracts."
   ]
  },
  {
   "cell_type": "code",
   "execution_count": null,
   "metadata": {},
   "outputs": [],
   "source": []
  },
  {
   "cell_type": "markdown",
   "metadata": {},
   "source": [
    "Report the top 5 tracts having the highest population density ([Hint](https://pandas.pydata.org/pandas-docs/stable/reference/api/pandas.DataFrame.sort_values.html)).  List their `GEOID10` codes"
   ]
  },
  {
   "cell_type": "code",
   "execution_count": null,
   "metadata": {},
   "outputs": [],
   "source": []
  },
  {
   "cell_type": "markdown",
   "metadata": {},
   "source": [
    "What county(ies) are these tracts located in? ([Hint](https://www.nrcs.usda.gov/wps/portal/nrcs/detail/ca/home/?cid=nrcs143_013697))"
   ]
  },
  {
   "cell_type": "code",
   "execution_count": null,
   "metadata": {},
   "outputs": [],
   "source": []
  },
  {
   "cell_type": "markdown",
   "metadata": {},
   "source": [
    "Discuss  these densities  relative to international standards ([Hint]( https://en.wikipedia.org/wiki/List_of_cities_by_population_density))."
   ]
  },
  {
   "cell_type": "code",
   "execution_count": null,
   "metadata": {},
   "outputs": [],
   "source": []
  },
  {
   "cell_type": "markdown",
   "metadata": {},
   "source": [
    "What is the average tract population density in the state?"
   ]
  },
  {
   "cell_type": "code",
   "execution_count": null,
   "metadata": {},
   "outputs": [],
   "source": []
  },
  {
   "cell_type": "markdown",
   "metadata": {},
   "source": [
    "How does the average density at the tract level compare the the population density for the state as a single polygon?"
   ]
  },
  {
   "cell_type": "code",
   "execution_count": null,
   "metadata": {},
   "outputs": [],
   "source": []
  },
  {
   "cell_type": "markdown",
   "metadata": {},
   "source": [
    "## 3. Finding and Removing Polygons\n",
    "\n",
    "We are going to focus on San Francisco County so create a smaller GeoDataFrame that contains only the tracts for this county."
   ]
  },
  {
   "cell_type": "code",
   "execution_count": null,
   "metadata": {},
   "outputs": [],
   "source": []
  },
  {
   "cell_type": "markdown",
   "metadata": {},
   "source": [
    "Plot the resulting GeoDataFrame. "
   ]
  },
  {
   "cell_type": "code",
   "execution_count": null,
   "metadata": {},
   "outputs": [],
   "source": []
  },
  {
   "cell_type": "markdown",
   "metadata": {},
   "source": [
    "You should see one feature off to the west of the mainland tracts. We need to remove it so we can focus on the mainland tracts. How can you identify this feature in the dataframe? (Hint: Think about coordinates and the research you did above on certain variables)."
   ]
  },
  {
   "cell_type": "code",
   "execution_count": null,
   "metadata": {},
   "outputs": [],
   "source": []
  },
  {
   "cell_type": "markdown",
   "metadata": {},
   "source": [
    "Create a new data frame that removes the island feature."
   ]
  },
  {
   "cell_type": "code",
   "execution_count": null,
   "metadata": {},
   "outputs": [],
   "source": []
  },
  {
   "cell_type": "markdown",
   "metadata": {},
   "source": [
    "We are almost ready to focus on choropleth mapping. There is one more polygon on the eastern border that dominates the visualization. It is a tract that is mostly water. Find it and remove it."
   ]
  },
  {
   "cell_type": "code",
   "execution_count": null,
   "metadata": {},
   "outputs": [],
   "source": []
  },
  {
   "cell_type": "markdown",
   "metadata": {},
   "source": [
    "## 4. Choropleth Mapping\n",
    "\n",
    "For San Francisco County, prepare choropleth maps for your tract population density variable.\n",
    "\n"
   ]
  },
  {
   "cell_type": "markdown",
   "metadata": {},
   "source": [
    "Create three choropleth maps for your density variable  using the following classifiers, with $k$=5\n",
    " - Fisher Jenks\n",
    " - Quantiles\n",
    " - Equal Interval\n"
   ]
  },
  {
   "cell_type": "code",
   "execution_count": null,
   "metadata": {},
   "outputs": [],
   "source": []
  },
  {
   "cell_type": "markdown",
   "metadata": {},
   "source": [
    "Compare the visualizations that result from these  maps."
   ]
  },
  {
   "cell_type": "code",
   "execution_count": null,
   "metadata": {},
   "outputs": [],
   "source": []
  },
  {
   "cell_type": "markdown",
   "metadata": {},
   "source": [
    "Explore alternative values for $k$. Discuss how this impacts the visualization."
   ]
  },
  {
   "cell_type": "code",
   "execution_count": null,
   "metadata": {},
   "outputs": [],
   "source": []
  },
  {
   "cell_type": "markdown",
   "metadata": {},
   "source": [
    "If you had to rely on a single map for a paper on population density in San Francisco, which one would you choose and why?"
   ]
  },
  {
   "cell_type": "code",
   "execution_count": null,
   "metadata": {},
   "outputs": [],
   "source": []
  }
 ],
 "metadata": {
  "kernelspec": {
   "display_name": "Python 3",
   "language": "python",
   "name": "python3"
  },
  "language_info": {
   "codemirror_mode": {
    "name": "ipython",
    "version": 3
   },
   "file_extension": ".py",
   "mimetype": "text/x-python",
   "name": "python",
   "nbconvert_exporter": "python",
   "pygments_lexer": "ipython3",
   "version": "3.6.4"
  }
 },
 "nbformat": 4,
 "nbformat_minor": 2
}
