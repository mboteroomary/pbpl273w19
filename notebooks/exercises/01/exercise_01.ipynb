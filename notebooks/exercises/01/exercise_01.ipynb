{
 "cells": [
  {
   "cell_type": "markdown",
   "metadata": {},
   "source": [
    "# Exercise 01: Spatial Interpolation\n",
    "\n",
    "Using the computational concepts covered in notebooks [A1-A6](https://github.com/sjsrey/pbpl273w19/tree/master/notebooks/0110), develop code that produces the interpolation results from [de Smith et al. (2018) Section 2.2.9](http://www.spatialanalysisonline.com/HTML/index.html?spatial_interpolation.htm)."
   ]
  },
  {
   "cell_type": "code",
   "execution_count": null,
   "metadata": {},
   "outputs": [],
   "source": [
    "import math \n",
    "%pylab inline \n",
    "\n",
    "# x, y coordinates of five observations\n",
    "x_known = [2, 3, 9, 6, 5]\n",
    "y_known = [2, 7, 9, 5, 3]\n",
    "\n",
    "# number of known observations\n",
    "n = len(x_known)\n",
    "\n",
    "# five values corresponding to the locations above\n",
    "v_known = [3, 4, 2, 4, 6]\n",
    "\n",
    "# coordinates of the target point\n",
    "target = [5, 5]\n",
    "\n",
    "# plot the points with marker size representing the value\n",
    "scatter(x_known, y_known, s=[v * 50 for v in v_known])\n",
    "\n",
    "# we want to interpolate the value at the location occupied by the orange star \n",
    "scatter(target[0], target[1], marker=\"*\", c='orange')\n",
    "\n"
   ]
  },
  {
   "cell_type": "markdown",
   "metadata": {},
   "source": [
    "## **Hints**:\n",
    "\n",
    "To complete this exercise, you need to create three functions, each performing one small computational task:\n",
    "\n",
    "- distance\n",
    "- weights\n",
    "- interpolation\n",
    "\n",
    "By putting these three functions together sequentially, we will be able to carry out spatial interpolation  for a target point given its location and the known values of other points as well as their locations.\n",
    "\n",
    "\n",
    "After completing these three functions, you should be able to run the following code which interpolates the value at the target point (5,5) given known values at five other locations. \n",
    "\n",
    "```\n",
    "distances = []\n",
    "for i in range(n):\n",
    "    coor_i = [x_known[i], y_known[i]]\n",
    "    d = distance(target, coor_i)\n",
    "    distances.append(d)\n",
    "\n",
    "w = weights(distances)\n",
    "estimate = interpolation(w, v_known)\n",
    "```\n",
    "\n",
    "To approach this problem, you should work on each function individually. We have included a cell after the function definition that should run correctly once you have implemented the function in question."
   ]
  },
  {
   "cell_type": "markdown",
   "metadata": {},
   "source": [
    "### Function `distance`\n",
    "The first function named `distance` calculates the Euclidean Distance between two points.\n",
    "\n",
    "$$d_{i,j} = \\sqrt{(x_i -x_j)(x_i-x_j) + (y_i-y_j)(y_i-y_j    )}$$ "
   ]
  },
  {
   "cell_type": "code",
   "execution_count": null,
   "metadata": {},
   "outputs": [],
   "source": [
    "def distance(p1, p2):\n",
    "    '''\n",
    "    Function distance takes in lists of x, y coordinates of two points \n",
    "    (p1=[x1, y1], p2 = [x2, y2])\n",
    "    and produces the Euclidean Distance between these two points.\n",
    "    '''\n",
    "    \n",
    "    # You need to return the following variable correctly.\n",
    "    d = 0\n",
    "    \n",
    "    # ======================Your code here=======================\n",
    "    # Instructions: Fill in this function to calculate Euclidean Distance \n",
    "    # based on the formula above and return the distance. \n",
    "    \n",
    "    \n",
    "\n",
    "    return d"
   ]
  },
  {
   "cell_type": "markdown",
   "metadata": {},
   "source": [
    "The following cell will test your distance function and should produce `True`."
   ]
  },
  {
   "cell_type": "code",
   "execution_count": null,
   "metadata": {},
   "outputs": [],
   "source": [
    "p1 = [10, 2]\n",
    "p2 = [10, 5]\n",
    "distance(p1, p2) == 3.0"
   ]
  },
  {
   "cell_type": "markdown",
   "metadata": {},
   "source": [
    "### Function `weights`\n",
    "The second function named `weights` calculates the weights for each known location $i$\n",
    "\n",
    "$$w_i = \\frac{\\frac{1}{d_{i,t}} }{\\sum_{i=1}^n \\frac{1}{d_{i,t}}} $$\n",
    "\n",
    "Note $n$ is the number of known locations and $t$ represents the *target point* for which we will be developing an interpolated estimate."
   ]
  },
  {
   "cell_type": "code",
   "execution_count": null,
   "metadata": {},
   "outputs": [],
   "source": [
    "def weights(distances):\n",
    "    '''\n",
    "    Function weights takes in a list of distances to the target point\n",
    "    and produces a list of weights for interpolation.\n",
    "    '''\n",
    "    \n",
    "    # You need to return the following variable correctly.\n",
    "    w = []\n",
    "    \n",
    "    # ======================Your code here=======================\n",
    "    # Instructions: Fill in this function to calculate weights  \n",
    "    # based on the formula above and return a list of weights.\n",
    "    # You can use the for loop to calculate weight.\n",
    "    \n",
    "    \n",
    "\n",
    "    return w"
   ]
  },
  {
   "cell_type": "markdown",
   "metadata": {},
   "source": [
    "The following cell tests if your weights function is working:"
   ]
  },
  {
   "cell_type": "code",
   "execution_count": null,
   "metadata": {},
   "outputs": [],
   "source": [
    "distances = [1.0, 2.0, 3.0, 4.0]\n",
    "weights(distances) == [0.4800000000000001, 0.24000000000000005, 0.16, 0.12000000000000002]"
   ]
  },
  {
   "cell_type": "markdown",
   "metadata": {},
   "source": [
    "### Function `interpolation`\n",
    "The second function named `interpolation` calculates the weighted average for the known locations:\n",
    "\n",
    "$$\\hat{v_t} = \\sum_{i=1}^n w_i v_i$$\n",
    "\n",
    "Note $v_i$ is the observed value at location $i$."
   ]
  },
  {
   "cell_type": "code",
   "execution_count": null,
   "metadata": {},
   "outputs": [],
   "source": [
    "def interpolation(w, v):\n",
    "    '''\n",
    "    Function interpolation takes in a list of weights and a list of observed values,\n",
    "    and produces the weighted average (interpolated value).\n",
    "    '''\n",
    "    \n",
    "    # You need to return the following variable correctly.\n",
    "    vt = 0\n",
    "    \n",
    "    # Number of known locations\n",
    "    n = len(w)\n",
    "    \n",
    "    # ======================Your code here=======================\n",
    "    # Instructions: Fill in this function based on the formula \n",
    "    # above and return the weighted average .\n",
    "    # You can use the for loop.\n",
    "    \n",
    "   \n",
    "    \n",
    "    return vt"
   ]
  },
  {
   "cell_type": "markdown",
   "metadata": {},
   "source": [
    "The following cell tests if your interpolation function is working:"
   ]
  },
  {
   "cell_type": "code",
   "execution_count": null,
   "metadata": {},
   "outputs": [],
   "source": [
    "v = [100, 200, 300]\n",
    "w = [0.75, 0.20, 0.05]\n",
    "interpolation(w, v) == 130.0"
   ]
  },
  {
   "cell_type": "markdown",
   "metadata": {},
   "source": [
    "## Putting it all together\n",
    "\n",
    "If you have correctly implemented the three functions above, you will be able to succesfully run the next cell"
   ]
  },
  {
   "cell_type": "code",
   "execution_count": null,
   "metadata": {},
   "outputs": [],
   "source": [
    "distances = []\n",
    "for i in range(n):\n",
    "    coor_i = [x_known[i], y_known[i]]\n",
    "    d = distance(target, coor_i)\n",
    "    distances.append(d)\n",
    "\n",
    "w = weights(distances)\n",
    "estimate = interpolation(w, v_known)\n",
    "if round(estimate, 2) == 4.18:\n",
    "    print(\"Interpolated value for target point (%.1f, %.1f) is %.2f.\"%(target[0], target[1], estimate))\n",
    "\n",
    "    print(\"Well done, you have successfully completed the exercise!\")\n",
    "    \n",
    "else:\n",
    "    print(\"Not quite there yet. Keep trying or ask for help.\")"
   ]
  }
 ],
 "metadata": {
  "kernelspec": {
   "display_name": "Python 3",
   "language": "python",
   "name": "python3"
  },
  "language_info": {
   "codemirror_mode": {
    "name": "ipython",
    "version": 3
   },
   "file_extension": ".py",
   "mimetype": "text/x-python",
   "name": "python",
   "nbconvert_exporter": "python",
   "pygments_lexer": "ipython3",
   "version": "3.6.8"
  }
 },
 "nbformat": 4,
 "nbformat_minor": 2
}
