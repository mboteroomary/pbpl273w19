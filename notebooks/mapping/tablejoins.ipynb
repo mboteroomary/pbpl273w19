{
 "cells": [
  {
   "cell_type": "markdown",
   "metadata": {},
   "source": [
    "# Integrating Attribute and Boundary Data From Different Sources"
   ]
  },
  {
   "cell_type": "markdown",
   "metadata": {},
   "source": [
    "[Serge Rey](http://sergerey.org)\n",
    "\n",
    "A common workflow in GIS in the social science is to combine attribute data from one source with boundaries for the administrative units of interest that are obtained from a different source. To work through an example of this work flow we will consider two sources of data:\n",
    "\n",
    "* California Per Capita Income Data (2015, 2016, 2017) [(Source)](https://www.bea.gov/system/files/2018-11/lapi1118_0.xlsx)\n",
    "* California County Shapefile [(Source)](https://data.ca.gov/sites/default/files/CA_Counties_0.zip)\n",
    "\n",
    "After downloading and extracting the files, the spreadsheet for California County Income was constructed by selecting out counties for California from the national file. The resulting file resides in `data/ca_county_pcincome.xlxs`.\n",
    "\n",
    "Let's create a pandas dataframe by reading this spreadsheet:"
   ]
  },
  {
   "cell_type": "code",
   "execution_count": null,
   "metadata": {},
   "outputs": [],
   "source": [
    "import pandas as pd\n",
    "import geopandas as gpd\n",
    "import matplotlib.pyplot as plt\n",
    "import seaborn as sbn\n",
    "\n",
    "%matplotlib  inline"
   ]
  },
  {
   "cell_type": "code",
   "execution_count": null,
   "metadata": {},
   "outputs": [],
   "source": [
    "pc_income_df = pd.read_excel('data/ca_county_pcincome.xlsx')"
   ]
  },
  {
   "cell_type": "code",
   "execution_count": null,
   "metadata": {},
   "outputs": [],
   "source": [
    "pc_income_df.head()"
   ]
  },
  {
   "cell_type": "code",
   "execution_count": null,
   "metadata": {},
   "outputs": [],
   "source": [
    "h = sbn.distplot(pc_income_df['PCI2015'], bins=5, rug=True);"
   ]
  },
  {
   "cell_type": "markdown",
   "metadata": {},
   "source": [
    "### Sorting"
   ]
  },
  {
   "cell_type": "code",
   "execution_count": null,
   "metadata": {},
   "outputs": [],
   "source": [
    "pc_income_df.sort_values(by='PCI2015').head()"
   ]
  },
  {
   "cell_type": "code",
   "execution_count": null,
   "metadata": {},
   "outputs": [],
   "source": [
    "pc_income_df.sort_values(by='PCI2015', ascending=False).head()"
   ]
  },
  {
   "cell_type": "code",
   "execution_count": null,
   "metadata": {},
   "outputs": [],
   "source": [
    "pc_income_df.sort_values(by='PCI2017').head()"
   ]
  },
  {
   "cell_type": "code",
   "execution_count": null,
   "metadata": {},
   "outputs": [],
   "source": [
    "pc_income_df.sort_values(by='PCI2017', ascending=False).head()"
   ]
  },
  {
   "cell_type": "markdown",
   "metadata": {},
   "source": [
    "## Boundaries\n",
    "\n",
    "The geometries for the counties are in `data/CA_Counties_TIGER2016.shp`. \n",
    "\n",
    "Using geopandas, we can read these into a GeoDataFrame:"
   ]
  },
  {
   "cell_type": "code",
   "execution_count": null,
   "metadata": {},
   "outputs": [],
   "source": [
    "gdf = gpd.read_file('data/CA_Counties_TIGER2016.shp')"
   ]
  },
  {
   "cell_type": "code",
   "execution_count": null,
   "metadata": {},
   "outputs": [],
   "source": [
    "gdf.plot()"
   ]
  },
  {
   "cell_type": "code",
   "execution_count": null,
   "metadata": {},
   "outputs": [],
   "source": [
    "gdf.head()"
   ]
  },
  {
   "cell_type": "markdown",
   "metadata": {},
   "source": [
    "## Table Join\n",
    "\n",
    "Examination of the GeoDataFrame shows us many attributes of the counties, but the income data are not among those. \n",
    "We need to integrate the income data from the pandas DataFrame into the GeoDataFrame.\n",
    "\n",
    "To do this we rely on what is known as a **table join**.\n",
    "\n",
    "We need to find a pair of attributes, one from the pandas DataFrame and one from the GeoDataFrame, that have values we can align. In other words, those attributes should measure the same thing, and have the same value for the record for each county (and that has to be unique to the county). \n",
    "\n",
    "Examination of the two sets of columns suggests that using the county names might be a good way to go. The one complication is that in the DataFrame, the names of the county are in the attribute `County`, while in the GeoDataFrame they are in the attribute `NAME`.\n",
    "\n",
    "In Geopandas a table join is done using the `merge` method. We will call the `merge` method on the GeoDataFrame (which will be referred to as the \"left\" table, to merge on the `County` attribute of the income dataframe (which is the \"right\" table):"
   ]
  },
  {
   "cell_type": "code",
   "execution_count": null,
   "metadata": {},
   "outputs": [],
   "source": [
    "jdf = gdf.merge(pc_income_df, left_on='NAME', right_on='County')"
   ]
  },
  {
   "cell_type": "code",
   "execution_count": null,
   "metadata": {},
   "outputs": [],
   "source": [
    "jdf.head()"
   ]
  },
  {
   "cell_type": "code",
   "execution_count": null,
   "metadata": {},
   "outputs": [],
   "source": [
    "jdf.columns"
   ]
  },
  {
   "cell_type": "code",
   "execution_count": null,
   "metadata": {},
   "outputs": [],
   "source": [
    "gdf.columns"
   ]
  },
  {
   "cell_type": "code",
   "execution_count": null,
   "metadata": {},
   "outputs": [],
   "source": [
    "gdf.merge?"
   ]
  },
  {
   "cell_type": "code",
   "execution_count": null,
   "metadata": {},
   "outputs": [],
   "source": [
    "jdf.plot(column='PCI2015')"
   ]
  },
  {
   "cell_type": "markdown",
   "metadata": {},
   "source": [
    "## Using Choropleth Helper"
   ]
  },
  {
   "cell_type": "code",
   "execution_count": null,
   "metadata": {},
   "outputs": [],
   "source": [
    "from choropleth import choropleth\n",
    "\n",
    "j = jdf # for the lazy professor"
   ]
  },
  {
   "cell_type": "code",
   "execution_count": null,
   "metadata": {},
   "outputs": [],
   "source": [
    "choropleth(j, 'PCI2015',\n",
    "           scheme='equal_interval', k=5)"
   ]
  },
  {
   "cell_type": "markdown",
   "metadata": {},
   "source": [
    "## Fix Legend"
   ]
  },
  {
   "cell_type": "code",
   "execution_count": null,
   "metadata": {},
   "outputs": [],
   "source": [
    "choropleth(j, 'PCI2015',\n",
    "           scheme='equal_interval', k=5, label_int=True)"
   ]
  },
  {
   "cell_type": "markdown",
   "metadata": {},
   "source": [
    "## Changing the Size of the Map"
   ]
  },
  {
   "cell_type": "code",
   "execution_count": null,
   "metadata": {},
   "outputs": [],
   "source": [
    "f, ax = plt.subplots(1, figsize=(12, 8))\n",
    "ax = choropleth(j, 'PCI2015',\n",
    "           scheme='equal_interval', k=5, label_int=True, edgecolor='black', ax=ax)"
   ]
  },
  {
   "cell_type": "code",
   "execution_count": null,
   "metadata": {},
   "outputs": [],
   "source": [
    "choropleth(j, 'PCI2015', cmap='Blues',\n",
    "           scheme='fisher_jenks', k=5)"
   ]
  },
  {
   "cell_type": "code",
   "execution_count": null,
   "metadata": {},
   "outputs": [],
   "source": [
    "choropleth(j, 'PCI2015', cmap='Blues',\n",
    "           scheme='quantiles', k=5, label_int=True)"
   ]
  },
  {
   "cell_type": "code",
   "execution_count": null,
   "metadata": {},
   "outputs": [],
   "source": [
    "choropleth(j, 'PCI2015', cmap='Blues',\n",
    "           scheme='quantiles', k=5, label_int=True)"
   ]
  },
  {
   "cell_type": "code",
   "execution_count": null,
   "metadata": {},
   "outputs": [],
   "source": [
    "choropleth(j, 'PCI2015', cmap='Blues',\n",
    "           scheme='quantiles', k=5, label_int=True, edgecolor='black')"
   ]
  },
  {
   "cell_type": "code",
   "execution_count": null,
   "metadata": {},
   "outputs": [],
   "source": [
    "choropleth(j, 'PCI2015', cmap='Blues',\n",
    "           scheme='fisher_jenks', k=5, label_int=True, edgecolor='black')"
   ]
  },
  {
   "cell_type": "code",
   "execution_count": null,
   "metadata": {},
   "outputs": [],
   "source": [
    "f, ax = plt.subplots(1, figsize=(12, 12))\n",
    "ax = choropleth(j, 'PCI2015', cmap='Blues',\n",
    "           scheme='fisher_jenks', k=5, label_int=True, edgecolor='black', ax=ax)\n",
    "plt.axis('off')"
   ]
  },
  {
   "cell_type": "markdown",
   "metadata": {},
   "source": [
    "## Save our joined gdf"
   ]
  },
  {
   "cell_type": "code",
   "execution_count": null,
   "metadata": {},
   "outputs": [],
   "source": [
    "j.to_file('data/pcigdf.shp')"
   ]
  },
  {
   "cell_type": "code",
   "execution_count": null,
   "metadata": {},
   "outputs": [],
   "source": [
    "f, ax = plt.subplots(1, figsize=(12, 12))\n",
    "ax = choropleth(j, 'PCI2015', cmap='Blues',\n",
    "           scheme='fisher_jenks', k=5, label_int=True, edgecolor='black', ax=ax)\n",
    "plt.axis('off')\n",
    "plt.title('PCI 2015')\n",
    "plt.savefig('pci2015.png')"
   ]
  },
  {
   "cell_type": "markdown",
   "metadata": {},
   "source": [
    "## Labeling"
   ]
  },
  {
   "cell_type": "code",
   "execution_count": null,
   "metadata": {},
   "outputs": [],
   "source": [
    "ax = j.plot()\n",
    "j.apply(lambda x: ax.annotate(s=x.NAME, xy=x.geometry.centroid.coords[0], ha='center'),axis=1);"
   ]
  },
  {
   "cell_type": "code",
   "execution_count": null,
   "metadata": {},
   "outputs": [],
   "source": [
    "f, ax = plt.subplots(1, figsize=(12, 12))\n",
    "ax = choropleth(j, 'PCI2015', cmap='Blues',\n",
    "           scheme='fisher_jenks', k=5, label_int=True, edgecolor='black', ax=ax)\n",
    "j.apply(lambda x: ax.annotate(s=x.NAME, xy=x.geometry.centroid.coords[0], ha='center'),axis=1);\n",
    "plt.axis('off')\n",
    "plt.title('PCI 2015')\n",
    "plt.savefig('pci2015.png')"
   ]
  },
  {
   "cell_type": "markdown",
   "metadata": {},
   "source": [
    "---\n",
    "\n",
    "<a rel=\"license\" href=\"http://creativecommons.org/licenses/by-nc-\n",
    "sa/4.0/\"><img alt=\"Creative Commons License\" style=\"border-width:0\"\n",
    "src=\"https://i.creativecommons.org/l/by-nc-sa/4.0/88x31.png\" /></a><br /><span\n",
    "xmlns:dct=\"http://purl.org/dc/terms/\" property=\"dct:title\">This material</span> by <a xmlns:cc=\"http://creativecommons.org/ns#\"\n",
    "href=\"http://sergerey.org\" property=\"cc:attributionName\"\n",
    "rel=\"cc:attributionURL\">Serge Rey</a> is licensed under a <a\n",
    "rel=\"license\" href=\"http://creativecommons.org/licenses/by-nc-sa/4.0/\">Creative\n",
    "Commons Attribution-NonCommercial-ShareAlike 4.0 International License</a>."
   ]
  },
  {
   "cell_type": "code",
   "execution_count": null,
   "metadata": {},
   "outputs": [],
   "source": []
  }
 ],
 "metadata": {
  "kernelspec": {
   "display_name": "Python 3",
   "language": "python",
   "name": "python3"
  },
  "language_info": {
   "codemirror_mode": {
    "name": "ipython",
    "version": 3
   },
   "file_extension": ".py",
   "mimetype": "text/x-python",
   "name": "python",
   "nbconvert_exporter": "python",
   "pygments_lexer": "ipython3",
   "version": "3.6.5"
  }
 },
 "nbformat": 4,
 "nbformat_minor": 2
}
